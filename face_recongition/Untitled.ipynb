{
 "cells": [
  {
   "cell_type": "code",
   "execution_count": 2,
   "id": "094f95b2",
   "metadata": {},
   "outputs": [],
   "source": [
    "from tensorflow import keras;\n",
    "import cv2;\n",
    "\n",
    "\n",
    "import numpy as np;\n",
    "import os;\n",
    "import random;\n",
    "from matplotlib import pyplot as plt;"
   ]
  },
  {
   "cell_type": "code",
   "execution_count": 3,
   "id": "72eed4fe",
   "metadata": {},
   "outputs": [],
   "source": [
    "from tensorflow.keras.models import Model;\n",
    "from tensorflow.keras.layers import Layer,Conv2D,Dense,MaxPooling2D,Input,Flatten;\n",
    "import tensorflow as tf;"
   ]
  },
  {
   "cell_type": "code",
   "execution_count": 4,
   "id": "f6ced1a2",
   "metadata": {},
   "outputs": [],
   "source": [
    "#avoid OMM  errors by setting gpu memory consumption growth;\n",
    "gpus=tf.config.experimental.list_physical_devices('GPU');\n",
    "for gpu in gpus:\n",
    "  tf.config.experimental.set_memory_growth(gpu,True);"
   ]
  },
  {
   "cell_type": "code",
   "execution_count": 5,
   "id": "4af56cf1",
   "metadata": {},
   "outputs": [],
   "source": [
    "POS_PATH=os.path.join('data','positive');\n",
    "NEG_PATH=os.path.join('data','negative');\n",
    "ANC_PATH=os.path.join('data','anchor');"
   ]
  },
  {
   "cell_type": "code",
   "execution_count": null,
   "id": "26b59e2e",
   "metadata": {},
   "outputs": [],
   "source": [
    "os.makedirs(POS_PATH);\n",
    "os.makedirs(NEG_PATH);\n",
    "os.makedirs(ANC_PATH);"
   ]
  },
  {
   "cell_type": "code",
   "execution_count": 7,
   "id": "cd53bf3c",
   "metadata": {},
   "outputs": [],
   "source": [
    "#uncompress the tar gz labelled faces in the wild dataset;\n",
    "!tar -xf lfw.tgz\n"
   ]
  },
  {
   "cell_type": "code",
   "execution_count": 9,
   "id": "b7e4896a",
   "metadata": {},
   "outputs": [],
   "source": [
    "#move lfw images to the following repository data/negative;\n",
    "for directory in os.listdir('lfw'):\n",
    "  for file in os.listdir(os.path.join('lfw',directory)):\n",
    "    ex_path=os.path.join('lfw',directory,file);\n",
    "    NEW_path=os.path.join(NEG_PATH,file);\n",
    "    os.replace(ex_path,NEW_path);\n",
    "    \n",
    "    "
   ]
  },
  {
   "cell_type": "code",
   "execution_count": 10,
   "id": "5a66e28a",
   "metadata": {},
   "outputs": [],
   "source": [
    "import uuid"
   ]
  },
  {
   "cell_type": "code",
   "execution_count": null,
   "id": "9c518a26",
   "metadata": {},
   "outputs": [],
   "source": [
    "cap=cv2.VideoCapture(0);\n",
    "while cap.isOpened():\n",
    "    \n",
    "    \n",
    "    ret,frame=cap.read();\n",
    "     #cyt diwb frane to 250 to 2550px\n",
    "    #frame=frame[75:75+255,245:245+255,:];\n",
    "    frame = frame[90:340, 200:450, :]\n",
    "    #collect anchors\n",
    "    if cv2.waitKey(1) & 0XFF==ord('a'):\n",
    "        imgname=os.path.join(ANC_PATH,'{}.jpg'.format(uuid.uuid1()));\n",
    "        cv2.imwrite(imgname,frame);\n",
    "    \n",
    "    \n",
    "    #collect positives\n",
    "    if cv2.waitKey(1) & 0XFF==ord('p'):\n",
    "        imgname=os.path.join(POS_PATH,'{}.jpg'.format(uuid.uuid1()));\n",
    "        cv2.imwrite(imgname,frame);\n",
    "        \n",
    "    \n",
    "    cv2.imshow('Image collection',frame);\n",
    "    if cv2.waitKey(1) & 0XFF==ord('q'):\n",
    "        break;\n",
    "    \n",
    "cap.release();\n",
    "cv2.destroyAllWindows();\n"
   ]
  },
  {
   "cell_type": "markdown",
   "id": "6b750ead",
   "metadata": {},
   "source": [
    "plt.imshow(frame);"
   ]
  },
  {
   "cell_type": "code",
   "execution_count": null,
   "id": "aec2f074",
   "metadata": {},
   "outputs": [],
   "source": [
    "plt.imshow(frame);"
   ]
  },
  {
   "cell_type": "code",
   "execution_count": null,
   "id": "6ea4c2d0",
   "metadata": {},
   "outputs": [],
   "source": [
    "frame.shape"
   ]
  },
  {
   "cell_type": "code",
   "execution_count": null,
   "id": "76036f80",
   "metadata": {},
   "outputs": [],
   "source": []
  },
  {
   "cell_type": "code",
   "execution_count": 14,
   "id": "3884f298",
   "metadata": {},
   "outputs": [],
   "source": [
    "anchor=tf.data.Dataset.list_files(ANC_PATH+'\\*.jpg').take(300);\n",
    "positive=tf.data.Dataset.list_files(POS_PATH+'\\*.jpg').take(300);\n",
    "negative=tf.data.Dataset.list_files(NEG_PATH+'\\*.jpg').take(300);"
   ]
  },
  {
   "cell_type": "code",
   "execution_count": 15,
   "id": "a815765a",
   "metadata": {},
   "outputs": [],
   "source": [
    "dir_test=anchor.as_numpy_iterator();"
   ]
  },
  {
   "cell_type": "code",
   "execution_count": 16,
   "id": "766f2b80",
   "metadata": {},
   "outputs": [
    {
     "name": "stdout",
     "output_type": "stream",
     "text": [
      "b'data\\\\anchor\\\\e8e85ebf-944e-11ee-802a-b7c3b2187a7e.jpg'\n"
     ]
    }
   ],
   "source": [
    "\n",
    "print(dir_test.next());"
   ]
  },
  {
   "cell_type": "code",
   "execution_count": 17,
   "id": "0c5ea062",
   "metadata": {},
   "outputs": [],
   "source": [
    "#preprocessing\n",
    "def preprocess(file_path):\n",
    "    byte_img=tf.io.read_file(file_path);\n",
    "    img=tf.io.decode_jpeg(byte_img);\n",
    "    img=tf.image.resize(img,(100,100));\n",
    "    img=img/255;\n",
    "    return img;\n",
    "    "
   ]
  },
  {
   "cell_type": "code",
   "execution_count": 18,
   "id": "03b86e04",
   "metadata": {},
   "outputs": [],
   "source": [
    "img=preprocess('data\\\\anchor\\\\edc63c41-944e-11ee-abe0-b7c3b2187a7e.jpg')"
   ]
  },
  {
   "cell_type": "code",
   "execution_count": 19,
   "id": "9caaf403",
   "metadata": {},
   "outputs": [
    {
     "data": {
      "text/plain": [
       "<matplotlib.image.AxesImage at 0x1d89a0ff810>"
      ]
     },
     "execution_count": 19,
     "metadata": {},
     "output_type": "execute_result"
    },
    {
     "data": {
      "image/png": "[encoded data removed]",
      "text/plain": [
       "<Figure size 640x480 with 1 Axes>"
      ]
     },
     "metadata": {},
     "output_type": "display_data"
    }
   ],
   "source": [
    "plt.imshow(img)"
   ]
  },
  {
   "cell_type": "code",
   "execution_count": 20,
   "id": "11cc0e60",
   "metadata": {},
   "outputs": [],
   "source": [
    "class_labels=tf.data.Dataset.from_tensor_slices(tf.zeros(len(anchor)));"
   ]
  },
  {
   "cell_type": "code",
   "execution_count": 21,
   "id": "f3589873",
   "metadata": {},
   "outputs": [],
   "source": [
    "iterator_labs=class_labels.as_numpy_iterator();"
   ]
  },
  {
   "cell_type": "code",
   "execution_count": 22,
   "id": "561e465c",
   "metadata": {},
   "outputs": [
    {
     "name": "stdout",
     "output_type": "stream",
     "text": [
      "0.0\n"
     ]
    }
   ],
   "source": [
    "print(iterator_labs.next())"
   ]
  },
  {
   "cell_type": "code",
   "execution_count": 23,
   "id": "69489378",
   "metadata": {},
   "outputs": [],
   "source": [
    "tf.ones_like([1,1,1,4.35235,2352.5]);"
   ]
  },
  {
   "cell_type": "code",
   "execution_count": 24,
   "id": "f17a3599",
   "metadata": {},
   "outputs": [],
   "source": [
    "# (anchor,positive) =>1,1,1,1,1;\n",
    "# (anchor,negative) =>0,0,0,0,0;\n"
   ]
  },
  {
   "cell_type": "code",
   "execution_count": 25,
   "id": "68fba180",
   "metadata": {},
   "outputs": [],
   "source": [
    "#here we are creating dataset for both positive and negative with their labels as 0 or 1s;\n",
    "positives=tf.data.Dataset.zip((anchor,positive,tf.data.Dataset.from_tensor_slices(tf.ones(len(anchor)))));\n",
    "negatives=tf.data.Dataset.zip((anchor,negative,tf.data.Dataset.from_tensor_slices(tf.zeros(len(anchor)))));\n",
    "data=positives.concatenate(negatives)"
   ]
  },
  {
   "cell_type": "code",
   "execution_count": 26,
   "id": "35843856",
   "metadata": {},
   "outputs": [
    {
     "data": {
      "text/plain": [
       "<_ConcatenateDataset element_spec=(TensorSpec(shape=(), dtype=tf.string, name=None), TensorSpec(shape=(), dtype=tf.string, name=None), TensorSpec(shape=(), dtype=tf.float32, name=None))>"
      ]
     },
     "execution_count": 26,
     "metadata": {},
     "output_type": "execute_result"
    }
   ],
   "source": [
    "data"
   ]
  },
  {
   "cell_type": "code",
   "execution_count": 27,
   "id": "918d760c",
   "metadata": {},
   "outputs": [
    {
     "data": {
      "text/plain": [
       "<tf.Tensor: shape=(40,), dtype=float32, numpy=\n",
       "array([1., 1., 1., 1., 1., 1., 1., 1., 1., 1., 1., 1., 1., 1., 1., 1., 1.,\n",
       "       1., 1., 1., 1., 1., 1., 1., 1., 1., 1., 1., 1., 1., 1., 1., 1., 1.,\n",
       "       1., 1., 1., 1., 1., 1.], dtype=float32)>"
      ]
     },
     "execution_count": 27,
     "metadata": {},
     "output_type": "execute_result"
    }
   ],
   "source": [
    "tf.ones(len(anchor))"
   ]
  },
  {
   "cell_type": "code",
   "execution_count": 28,
   "id": "e187b416",
   "metadata": {},
   "outputs": [],
   "source": [
    "samples=data.as_numpy_iterator();\n",
    "examples=samples.next();\n",
    "\n",
    "#here we are getting anchor input image and positive image and then label 1."
   ]
  },
  {
   "cell_type": "code",
   "execution_count": 29,
   "id": "d4858fb2",
   "metadata": {},
   "outputs": [
    {
     "name": "stdout",
     "output_type": "stream",
     "text": [
      "(b'data\\\\anchor\\\\ec4c54f9-944e-11ee-b1a3-b7c3b2187a7e.jpg', b'data\\\\positive\\\\6fe1b399-944f-11ee-905e-b7c3b2187a7e.jpg', 1.0)\n"
     ]
    }
   ],
   "source": [
    "print(examples);"
   ]
  },
  {
   "cell_type": "code",
   "execution_count": 30,
   "id": "a197c14e",
   "metadata": {},
   "outputs": [],
   "source": [
    "#new performing preprocessing on above dataset \n",
    "def twin_preprocess(input_img,validation_img,label):\n",
    "    return (preprocess(input_img),preprocess(validation_img),label);"
   ]
  },
  {
   "cell_type": "code",
   "execution_count": 31,
   "id": "68201614",
   "metadata": {},
   "outputs": [],
   "source": [
    "result=twin_preprocess(*examples);"
   ]
  },
  {
   "cell_type": "code",
   "execution_count": 32,
   "id": "7eec9d4f",
   "metadata": {},
   "outputs": [
    {
     "name": "stdout",
     "output_type": "stream",
     "text": [
      "3\n"
     ]
    }
   ],
   "source": [
    "print(len(result))"
   ]
  },
  {
   "cell_type": "code",
   "execution_count": 33,
   "id": "23ff8e9b",
   "metadata": {
    "scrolled": true
   },
   "outputs": [
    {
     "data": {
      "text/plain": [
       "<matplotlib.image.AxesImage at 0x1d89a2fc610>"
      ]
     },
     "execution_count": 33,
     "metadata": {},
     "output_type": "execute_result"
    },
    {
     "data": {
      "image/png": "[encoded data removed]",
      "text/plain": [
       "<Figure size 640x480 with 1 Axes>"
      ]
     },
     "metadata": {},
     "output_type": "display_data"
    }
   ],
   "source": [
    "plt.imshow(result[1])"
   ]
  },
  {
   "cell_type": "markdown",
   "id": "5965c1f1",
   "metadata": {},
   "source": []
  },
  {
   "cell_type": "code",
   "execution_count": 34,
   "id": "c2d0b36d",
   "metadata": {},
   "outputs": [],
   "source": [
    "#build data loader pipeline\n",
    "data=data.map(twin_preprocess);\n",
    "data=data.cache();\n",
    "data=data.shuffle(buffer_size=1024);"
   ]
  },
  {
   "cell_type": "code",
   "execution_count": 35,
   "id": "92f2ae2b",
   "metadata": {},
   "outputs": [
    {
     "data": {
      "text/plain": [
       "<_ShuffleDataset element_spec=(TensorSpec(shape=(100, 100, None), dtype=tf.float32, name=None), TensorSpec(shape=(100, 100, None), dtype=tf.float32, name=None), TensorSpec(shape=(), dtype=tf.float32, name=None))>"
      ]
     },
     "execution_count": 35,
     "metadata": {},
     "output_type": "execute_result"
    }
   ],
   "source": [
    "data"
   ]
  },
  {
   "cell_type": "code",
   "execution_count": 36,
   "id": "9f666ec7",
   "metadata": {},
   "outputs": [],
   "source": [
    "samples=data.as_numpy_iterator();"
   ]
  },
  {
   "cell_type": "code",
   "execution_count": 37,
   "id": "bcbba96b",
   "metadata": {},
   "outputs": [
    {
     "name": "stdout",
     "output_type": "stream",
     "text": [
      "[[[0.         0.         0.        ]\n",
      "  [0.         0.         0.        ]\n",
      "  [0.         0.         0.        ]\n",
      "  ...\n",
      "  [0.         0.         0.        ]\n",
      "  [0.         0.         0.        ]\n",
      "  [0.         0.         0.        ]]\n",
      "\n",
      " [[0.         0.         0.        ]\n",
      "  [0.         0.         0.        ]\n",
      "  [0.         0.         0.        ]\n",
      "  ...\n",
      "  [0.         0.         0.        ]\n",
      "  [0.         0.         0.        ]\n",
      "  [0.         0.         0.        ]]\n",
      "\n",
      " [[0.         0.         0.        ]\n",
      "  [0.         0.         0.        ]\n",
      "  [0.         0.         0.        ]\n",
      "  ...\n",
      "  [0.         0.         0.        ]\n",
      "  [0.         0.         0.        ]\n",
      "  [0.         0.         0.        ]]\n",
      "\n",
      " ...\n",
      "\n",
      " [[0.         0.00392157 0.        ]\n",
      "  [0.         0.00294118 0.00196078]\n",
      "  [0.         0.         0.00196078]\n",
      "  ...\n",
      "  [0.         0.         0.        ]\n",
      "  [0.         0.         0.        ]\n",
      "  [0.         0.         0.        ]]\n",
      "\n",
      " [[0.         0.00392157 0.        ]\n",
      "  [0.         0.00294118 0.00196078]\n",
      "  [0.         0.         0.00196078]\n",
      "  ...\n",
      "  [0.         0.         0.        ]\n",
      "  [0.         0.         0.        ]\n",
      "  [0.         0.         0.        ]]\n",
      "\n",
      " [[0.         0.00392157 0.        ]\n",
      "  [0.         0.00294118 0.00196078]\n",
      "  [0.         0.         0.00196078]\n",
      "  ...\n",
      "  [0.         0.         0.        ]\n",
      "  [0.         0.         0.        ]\n",
      "  [0.         0.         0.        ]]]\n"
     ]
    }
   ],
   "source": [
    "print(samples.next()[1]);"
   ]
  },
  {
   "cell_type": "code",
   "execution_count": 38,
   "id": "ddf40e4b",
   "metadata": {},
   "outputs": [
    {
     "data": {
      "text/plain": [
       "<matplotlib.image.AxesImage at 0x1d89a0a3b90>"
      ]
     },
     "execution_count": 38,
     "metadata": {},
     "output_type": "execute_result"
    },
    {
     "data": {
      "image/png": "[encoded data removed]",
      "text/plain": [
       "<Figure size 640x480 with 1 Axes>"
      ]
     },
     "metadata": {},
     "output_type": "display_data"
    }
   ],
   "source": [
    "plt.imshow(samples.next()[1])"
   ]
  },
  {
   "cell_type": "code",
   "execution_count": 39,
   "id": "1e47e370",
   "metadata": {},
   "outputs": [
    {
     "name": "stdout",
     "output_type": "stream",
     "text": [
      "0.0\n"
     ]
    }
   ],
   "source": [
    "print(samples.next()[2])"
   ]
  },
  {
   "cell_type": "code",
   "execution_count": 40,
   "id": "9e091d7a",
   "metadata": {},
   "outputs": [],
   "source": [
    "#trainng partitions\n",
    "train_data=data.take(round(len(data)*.7));\n",
    "train_data=train_data.batch(16);\n",
    "train_data=train_data.prefetch(8);\n",
    "\n"
   ]
  },
  {
   "cell_type": "code",
   "execution_count": 41,
   "id": "7da91085",
   "metadata": {},
   "outputs": [
    {
     "data": {
      "text/plain": [
       "<_PrefetchDataset element_spec=(TensorSpec(shape=(None, 100, 100, None), dtype=tf.float32, name=None), TensorSpec(shape=(None, 100, 100, None), dtype=tf.float32, name=None), TensorSpec(shape=(None,), dtype=tf.float32, name=None))>"
      ]
     },
     "execution_count": 41,
     "metadata": {},
     "output_type": "execute_result"
    }
   ],
   "source": [
    "train_data"
   ]
  },
  {
   "cell_type": "code",
   "execution_count": 42,
   "id": "429e9abf",
   "metadata": {},
   "outputs": [],
   "source": [
    "train_samples=train_data.as_numpy_iterator();\n",
    "train_sample=train_samples.next();\n",
    "\n"
   ]
  },
  {
   "cell_type": "code",
   "execution_count": 43,
   "id": "cb9dd528",
   "metadata": {},
   "outputs": [
    {
     "data": {
      "text/plain": [
       "3"
      ]
     },
     "execution_count": 43,
     "metadata": {},
     "output_type": "execute_result"
    }
   ],
   "source": [
    "len(train_sample)"
   ]
  },
  {
   "cell_type": "code",
   "execution_count": 48,
   "id": "40fd9fc9",
   "metadata": {},
   "outputs": [],
   "source": [
    "#test partitions\n",
    "test_data=data.skip(round(len(data)*.7));\n",
    "test_data=test_data.take(round(len(data)*.3));\n",
    "test_data=test_data.batch(16);\n",
    "test_data=test_data.prefetch(8)"
   ]
  },
  {
   "cell_type": "code",
   "execution_count": 49,
   "id": "d37b58ca",
   "metadata": {},
   "outputs": [
    {
     "data": {
      "text/plain": [
       "24"
      ]
     },
     "execution_count": 49,
     "metadata": {},
     "output_type": "execute_result"
    }
   ],
   "source": [
    "round(len(data)*.3)"
   ]
  },
  {
   "cell_type": "code",
   "execution_count": 50,
   "id": "4143088a",
   "metadata": {},
   "outputs": [
    {
     "name": "stdout",
     "output_type": "stream",
     "text": [
      "KerasTensor(type_spec=TensorSpec(shape=(None, 20, 20, 128), dtype=tf.float32, name=None), name='max_pooling2d_3/MaxPool:0', description=\"created by layer 'max_pooling2d_3'\")\n"
     ]
    }
   ],
   "source": [
    "c2=Conv2D(128,(7,7),activation='relu')(m1);\n",
    "m2=MaxPooling2D(64,(2,2),padding='same')(c2);\n",
    "print(m2);"
   ]
  },
  {
   "cell_type": "code",
   "execution_count": 51,
   "id": "b79d7604",
   "metadata": {},
   "outputs": [
    {
     "name": "stdout",
     "output_type": "stream",
     "text": [
      "KerasTensor(type_spec=TensorSpec(shape=(None, 6, 6, 256), dtype=tf.float32, name=None), name='conv2d_6/Relu:0', description=\"created by layer 'conv2d_6'\")\n"
     ]
    }
   ],
   "source": [
    "c4=Conv2D(256,(4,4),activation='relu')(m3);\n",
    "print(c4)"
   ]
  },
  {
   "cell_type": "code",
   "execution_count": 47,
   "id": "a238e544",
   "metadata": {},
   "outputs": [
    {
     "name": "stdout",
     "output_type": "stream",
     "text": [
      "KerasTensor(type_spec=TensorSpec(shape=(None, 46, 46, 64), dtype=tf.float32, name=None), name='max_pooling2d/MaxPool:0', description=\"created by layer 'max_pooling2d'\")\n",
      "KerasTensor(type_spec=TensorSpec(shape=(None, 20, 20, 128), dtype=tf.float32, name=None), name='max_pooling2d_1/MaxPool:0', description=\"created by layer 'max_pooling2d_1'\")\n",
      "KerasTensor(type_spec=TensorSpec(shape=(None, 9, 9, 128), dtype=tf.float32, name=None), name='max_pooling2d_2/MaxPool:0', description=\"created by layer 'max_pooling2d_2'\")\n",
      "KerasTensor(type_spec=TensorSpec(shape=(None, 4096), dtype=tf.float32, name=None), name='dense/Sigmoid:0', description=\"created by layer 'dense'\")\n"
     ]
    }
   ],
   "source": [
    "inp=Input(shape=(100,100,3),name='input_image');\n",
    "c1=Conv2D(64,(10,10),activation='relu')(inp);\n",
    "m1=MaxPooling2D(64,(2,2),padding='same')(c1);\n",
    "print(m1);\n",
    "    \n",
    "#second block\n",
    "c2=Conv2D(128,(7,7),activation='relu')(m1);\n",
    "m2=MaxPooling2D(64,(2,2),padding='same')(c2);\n",
    "print(m2);\n",
    "    \n",
    "#third block\n",
    "c3=Conv2D(128,(4,4),activation='relu')(m2);\n",
    "m3=MaxPooling2D(64,(2,2),padding='same')(c3);\n",
    "print(m3);\n",
    "    \n",
    "#fourth block\n",
    "c4=Conv2D(256,(4,4),activation='relu')(m3);\n",
    "f1=Flatten()(c4);\n",
    "d1=Dense(4096,activation='sigmoid')(f1);\n",
    "print(d1);"
   ]
  },
  {
   "cell_type": "markdown",
   "id": "522ff26c",
   "metadata": {},
   "source": []
  },
  {
   "cell_type": "markdown",
   "id": "440a82a1",
   "metadata": {},
   "source": [
    "# make embeddings for both anchor images and validation images"
   ]
  },
  {
   "cell_type": "code",
   "execution_count": 52,
   "id": "fa404c8f",
   "metadata": {},
   "outputs": [],
   "source": [
    "#build embedding layer;\n",
    "def make_embeddings():\n",
    "    inp=Input(shape=(100,100,3),name='input_image');\n",
    "    \n",
    "    #first block\n",
    "    c1=Conv2D(64,(10,10),activation='relu')(inp);\n",
    "    m1=MaxPooling2D(64,(2,2),padding='same')(c1);\n",
    "    \n",
    "     #second block\n",
    "    c2=Conv2D(128,(7,7),activation='relu')(m1);\n",
    "    m2=MaxPooling2D(64,(2,2),padding='same')(c2);\n",
    "    \n",
    "     #third block\n",
    "    c3=Conv2D(128,(4,4),activation='relu')(m2);\n",
    "    m3=MaxPooling2D(64,(2,2),padding='same')(c3);\n",
    "    \n",
    "     #fourth block\n",
    "    c4=Conv2D(256,(4,4),activation='relu')(m3);\n",
    "    f1=Flatten()(c4);\n",
    "    d1=Dense(4096,activation='sigmoid')(f1);\n",
    "    \n",
    "    \n",
    "    \n",
    "    \n",
    "    \n",
    "    \n",
    "    return Model(inputs=[inp],outputs=[d1],name='embedding')\n",
    "    "
   ]
  },
  {
   "cell_type": "code",
   "execution_count": 53,
   "id": "6b41c3fc",
   "metadata": {},
   "outputs": [],
   "source": [
    "embedding=Model(inputs=[inp],outputs=[d1],name='embedding');"
   ]
  },
  {
   "cell_type": "code",
   "execution_count": 54,
   "id": "7df62fd4",
   "metadata": {},
   "outputs": [
    {
     "name": "stdout",
     "output_type": "stream",
     "text": [
      "Model: \"embedding\"\n",
      "_________________________________________________________________\n",
      " Layer (type)                Output Shape              Param #   \n",
      "=================================================================\n",
      " input_image (InputLayer)    [(None, 100, 100, 3)]     0         \n",
      "                                                                 \n",
      " conv2d_1 (Conv2D)           (None, 91, 91, 64)        19264     \n",
      "                                                                 \n",
      " max_pooling2d (MaxPooling2D  (None, 46, 46, 64)       0         \n",
      " )                                                               \n",
      "                                                                 \n",
      " conv2d_2 (Conv2D)           (None, 40, 40, 128)       401536    \n",
      "                                                                 \n",
      " max_pooling2d_1 (MaxPooling  (None, 20, 20, 128)      0         \n",
      " 2D)                                                             \n",
      "                                                                 \n",
      " conv2d_3 (Conv2D)           (None, 17, 17, 128)       262272    \n",
      "                                                                 \n",
      " max_pooling2d_2 (MaxPooling  (None, 9, 9, 128)        0         \n",
      " 2D)                                                             \n",
      "                                                                 \n",
      " conv2d_4 (Conv2D)           (None, 6, 6, 256)         524544    \n",
      "                                                                 \n",
      " flatten (Flatten)           (None, 9216)              0         \n",
      "                                                                 \n",
      " dense (Dense)               (None, 4096)              37752832  \n",
      "                                                                 \n",
      "=================================================================\n",
      "Total params: 38,960,448\n",
      "Trainable params: 38,960,448\n",
      "Non-trainable params: 0\n",
      "_________________________________________________________________\n"
     ]
    }
   ],
   "source": [
    "embedding.summary();"
   ]
  },
  {
   "cell_type": "markdown",
   "id": "fcca1d39",
   "metadata": {},
   "source": [
    "# build distance layer"
   ]
  },
  {
   "cell_type": "code",
   "execution_count": 55,
   "id": "81cffbae",
   "metadata": {},
   "outputs": [],
   "source": [
    "#build distance layer\n",
    "#siamese L1 Distance layer\n",
    "class L1Dist(Layer):\n",
    "    def __init__(self,**kwargs):\n",
    "        super().__init__();\n",
    "    \n",
    "    #it gives us a distance between the two images;\n",
    "    def call(self,input_embedding,validation_embedding):\n",
    "        return tf.math.abs(input_embedding-validation_embedding);"
   ]
  },
  {
   "cell_type": "code",
   "execution_count": 56,
   "id": "a2d8b442",
   "metadata": {},
   "outputs": [],
   "source": [
    "l1=L1Dist();"
   ]
  },
  {
   "cell_type": "code",
   "execution_count": null,
   "id": "b62baf63",
   "metadata": {},
   "outputs": [],
   "source": [
    "l1(anchor_embedding,validation_embedding);"
   ]
  },
  {
   "cell_type": "markdown",
   "id": "4fe91b53",
   "metadata": {},
   "source": [
    "# Make siamese model"
   ]
  },
  {
   "cell_type": "code",
   "execution_count": 58,
   "id": "43e15616",
   "metadata": {},
   "outputs": [],
   "source": [
    "def siamese_model():\n",
    "    #handle inputs images anchor and validation images;\n",
    "    input_image=Input(name='input_img',shape=(100,100,3));\n",
    "    validation_image=Input(name='validation_img',shape=(100,100,3)C\n",
    "    \n",
    "    #combine siamese distance components;\n",
    "    siamese_layer=L1Dist();\n",
    "    siamese_layer._name='distance';\n",
    "    distances=siamese_layer(embedding(input_image),embedding(validation_image));\n",
    "    \n",
    "    #classifier layer;\n",
    "    classifier=Dense(1,activation='sigmoid')(distances);\n",
    "    \n",
    "    return Model(inputs=[input_image,validation_image],outputs=classifier,name='SiameseNetwork')\n",
    "    "
   ]
  },
  {
   "cell_type": "code",
   "execution_count": 59,
   "id": "ccc01f57",
   "metadata": {},
   "outputs": [],
   "source": [
    "input_image=Input(name='input_img',shape=(100,100,3));\n",
    "validation_image=Input(name='validation_img',shape=(100,100,3));"
   ]
  },
  {
   "cell_type": "code",
   "execution_count": 60,
   "id": "308c516c",
   "metadata": {},
   "outputs": [
    {
     "data": {
      "text/plain": [
       "<KerasTensor: shape=(None, 4096) dtype=float32 (created by layer 'embedding')>"
      ]
     },
     "execution_count": 60,
     "metadata": {},
     "output_type": "execute_result"
    }
   ],
   "source": [
    "embedding(input_image)"
   ]
  },
  {
   "cell_type": "code",
   "execution_count": 61,
   "id": "c3b48988",
   "metadata": {},
   "outputs": [
    {
     "name": "stdout",
     "output_type": "stream",
     "text": [
      "KerasTensor(type_spec=TensorSpec(shape=(None, 4096), dtype=tf.float32, name=None), name='embedding/dense/Sigmoid:0', description=\"created by layer 'embedding'\")\n",
      "KerasTensor(type_spec=TensorSpec(shape=(None, 4096), dtype=tf.float32, name=None), name='embedding/dense/Sigmoid:0', description=\"created by layer 'embedding'\")\n"
     ]
    }
   ],
   "source": [
    "\n",
    "inp_embedding=embedding(input_image);\n",
    "val_embedding=embedding(validation_image);\n",
    "print(inp_embedding);\n",
    "print(val_embedding);"
   ]
  },
  {
   "cell_type": "code",
   "execution_count": 62,
   "id": "ca35f5a1",
   "metadata": {},
   "outputs": [],
   "source": [
    "siamese_layer=L1Dist();"
   ]
  },
  {
   "cell_type": "code",
   "execution_count": 63,
   "id": "1bfed1d7",
   "metadata": {},
   "outputs": [],
   "source": [
    "distances=siamese_layer(inp_embedding,val_embedding);"
   ]
  },
  {
   "cell_type": "code",
   "execution_count": 64,
   "id": "820635b7",
   "metadata": {},
   "outputs": [
    {
     "name": "stdout",
     "output_type": "stream",
     "text": [
      "KerasTensor(type_spec=TensorSpec(shape=(None, 1), dtype=tf.float32, name=None), name='dense_1/Sigmoid:0', description=\"created by layer 'dense_1'\")\n"
     ]
    }
   ],
   "source": [
    "classifier=Dense(1,activation='sigmoid')(distances);\n",
    "print(classifier)"
   ]
  },
  {
   "cell_type": "code",
   "execution_count": 65,
   "id": "98a2bed3",
   "metadata": {},
   "outputs": [],
   "source": [
    " siamese_network= Model(inputs=[input_image,validation_image],outputs=classifier,name='SiameseNetwork')"
   ]
  },
  {
   "cell_type": "code",
   "execution_count": 66,
   "id": "471f9b02",
   "metadata": {},
   "outputs": [
    {
     "name": "stdout",
     "output_type": "stream",
     "text": [
      "Model: \"SiameseNetwork\"\n",
      "__________________________________________________________________________________________________\n",
      " Layer (type)                   Output Shape         Param #     Connected to                     \n",
      "==================================================================================================\n",
      " input_img (InputLayer)         [(None, 100, 100, 3  0           []                               \n",
      "                                )]                                                                \n",
      "                                                                                                  \n",
      " validation_img (InputLayer)    [(None, 100, 100, 3  0           []                               \n",
      "                                )]                                                                \n",
      "                                                                                                  \n",
      " embedding (Functional)         (None, 4096)         38960448    ['input_img[0][0]',              \n",
      "                                                                  'validation_img[0][0]']         \n",
      "                                                                                                  \n",
      " l1_dist_1 (L1Dist)             (None, 4096)         0           ['embedding[1][0]',              \n",
      "                                                                  'embedding[2][0]']              \n",
      "                                                                                                  \n",
      " dense_1 (Dense)                (None, 1)            4097        ['l1_dist_1[0][0]']              \n",
      "                                                                                                  \n",
      "==================================================================================================\n",
      "Total params: 38,964,545\n",
      "Trainable params: 38,964,545\n",
      "Non-trainable params: 0\n",
      "__________________________________________________________________________________________________\n"
     ]
    }
   ],
   "source": [
    "siamese_network.summary();"
   ]
  },
  {
   "cell_type": "code",
   "execution_count": 67,
   "id": "0afd25eb",
   "metadata": {},
   "outputs": [],
   "source": [
    "siamese_model=siamese_model();"
   ]
  },
  {
   "cell_type": "markdown",
   "id": "b87d2e1b",
   "metadata": {},
   "source": [
    "siamese_model.summary();"
   ]
  },
  {
   "cell_type": "markdown",
   "id": "035a9970",
   "metadata": {},
   "source": [
    "# Define loss function and optimizers"
   ]
  },
  {
   "cell_type": "code",
   "execution_count": 68,
   "id": "4f44981b",
   "metadata": {},
   "outputs": [],
   "source": [
    "binary_cross_loss=tf.losses.BinaryCrossentropy();\n"
   ]
  },
  {
   "cell_type": "code",
   "execution_count": 69,
   "id": "f474d065",
   "metadata": {},
   "outputs": [],
   "source": [
    "opt=tf.keras.optimizers.Adam(1e-4);\n"
   ]
  },
  {
   "cell_type": "markdown",
   "id": "0df5263a",
   "metadata": {},
   "source": [
    "# Establish checkpoints"
   ]
  },
  {
   "cell_type": "code",
   "execution_count": 70,
   "id": "b8497078",
   "metadata": {},
   "outputs": [],
   "source": [
    "checkpoint_dir='./training_checkpoints';\n",
    "checkpoint_prefix=os.path.join(checkpoint_dir,'ckpt');\n",
    "checkpoint=tf.train.Checkpoint(opt=opt,siamese_model=siamese_model);"
   ]
  },
  {
   "cell_type": "code",
   "execution_count": 71,
   "id": "7772fdd6",
   "metadata": {},
   "outputs": [],
   "source": [
    "test_batch=train_data.as_numpy_iterator();"
   ]
  },
  {
   "cell_type": "code",
   "execution_count": 72,
   "id": "d2e64bff",
   "metadata": {},
   "outputs": [],
   "source": [
    "batch1=test_batch.next();\n"
   ]
  },
  {
   "cell_type": "code",
   "execution_count": 73,
   "id": "edc240b3",
   "metadata": {},
   "outputs": [
    {
     "data": {
      "text/plain": [
       "(array([[[[0.79019606, 0.73137254, 0.85294116],\n",
       "          [0.7852941 , 0.7264706 , 0.8421569 ],\n",
       "          [0.79509807, 0.73039216, 0.8666667 ],\n",
       "          ...,\n",
       "          [0.7026961 , 0.6458333 , 0.785049  ],\n",
       "          [0.70980394, 0.64705884, 0.7921569 ],\n",
       "          [0.71960783, 0.6490196 , 0.7980392 ]],\n",
       " \n",
       "         [[0.7892157 , 0.73039216, 0.8519608 ],\n",
       "          [0.7860294 , 0.7272059 , 0.8492647 ],\n",
       "          [0.7921569 , 0.73039216, 0.8686274 ],\n",
       "          ...,\n",
       "          [0.7058824 , 0.6509804 , 0.7882353 ],\n",
       "          [0.7058824 , 0.64656866, 0.78455883],\n",
       "          [0.71936274, 0.657598  , 0.79583335]],\n",
       " \n",
       "         [[0.7892157 , 0.73333335, 0.8607843 ],\n",
       "          [0.7897059 , 0.7323529 , 0.8625    ],\n",
       "          [0.7914216 , 0.7289216 , 0.8693628 ],\n",
       "          ...,\n",
       "          [0.7051471 , 0.6502451 , 0.7860294 ],\n",
       "          [0.70441175, 0.6495098 , 0.7794118 ],\n",
       "          [0.71004903, 0.65710783, 0.7776961 ]],\n",
       " \n",
       "         ...,\n",
       " \n",
       "         [[0.6522059 , 0.5394608 , 0.69803923],\n",
       "          [0.6519608 , 0.54093134, 0.67990196],\n",
       "          [0.6497549 , 0.53063726, 0.6720588 ],\n",
       "          ...,\n",
       "          [0.7316176 , 0.57941175, 0.6046569 ],\n",
       "          [0.7245098 , 0.597549  , 0.639951  ],\n",
       "          [0.70637256, 0.60490197, 0.65367645]],\n",
       " \n",
       "         [[0.654902  , 0.53112745, 0.67941177],\n",
       "          [0.64436275, 0.5237745 , 0.65857846],\n",
       "          [0.6632353 , 0.53455883, 0.6767157 ],\n",
       "          ...,\n",
       "          [0.7259804 , 0.50392157, 0.44289216],\n",
       "          [0.735049  , 0.5262255 , 0.50490195],\n",
       "          [0.7252451 , 0.53112745, 0.525     ]],\n",
       " \n",
       "         [[0.65955883, 0.53406864, 0.6791667 ],\n",
       "          [0.65931374, 0.5259804 , 0.6632353 ],\n",
       "          [0.6480392 , 0.5147059 , 0.6578431 ],\n",
       "          ...,\n",
       "          [0.77156866, 0.4894608 , 0.3720588 ],\n",
       "          [0.79068625, 0.5122549 , 0.4110294 ],\n",
       "          [0.78039217, 0.4990196 , 0.40784314]]],\n",
       " \n",
       " \n",
       "        [[[0.7867647 , 0.6982843 , 0.8480392 ],\n",
       "          [0.8017157 , 0.6911765 , 0.842402  ],\n",
       "          [0.79289216, 0.6904412 , 0.8480392 ],\n",
       "          ...,\n",
       "          [0.69264704, 0.6125    , 0.78039217],\n",
       "          [0.70637256, 0.64411765, 0.8066176 ],\n",
       "          [0.70735294, 0.6507353 , 0.81078434]],\n",
       " \n",
       "         [[0.78357846, 0.70490193, 0.8517157 ],\n",
       "          [0.7897059 , 0.6931372 , 0.84632355],\n",
       "          [0.79019606, 0.70098037, 0.8541667 ],\n",
       "          ...,\n",
       "          [0.6671569 , 0.6046569 , 0.76740193],\n",
       "          [0.67745095, 0.6357843 , 0.7919118 ],\n",
       "          [0.69436276, 0.65686274, 0.8117647 ]],\n",
       " \n",
       "         [[0.7590686 , 0.6884804 , 0.84338236],\n",
       "          [0.76985294, 0.6865196 , 0.8394608 ],\n",
       "          [0.78161764, 0.6990196 , 0.8519608 ],\n",
       "          ...,\n",
       "          [0.6786765 , 0.63259804, 0.7894608 ],\n",
       "          [0.6671569 , 0.64166665, 0.7916667 ],\n",
       "          [0.6696078 , 0.6519608 , 0.7980392 ]],\n",
       " \n",
       "         ...,\n",
       " \n",
       "         [[0.61740196, 0.5004902 , 0.66593134],\n",
       "          [0.6022059 , 0.49044117, 0.6394608 ],\n",
       "          [0.63259804, 0.5107843 , 0.6485294 ],\n",
       "          ...,\n",
       "          [0.7120098 , 0.5595588 , 0.6164216 ],\n",
       "          [0.70098037, 0.55784315, 0.6431373 ],\n",
       "          [0.7029412 , 0.55588233, 0.65392154]],\n",
       " \n",
       "         [[0.63161767, 0.48553923, 0.6573529 ],\n",
       "          [0.62107843, 0.4779412 , 0.64509803],\n",
       "          [0.6397059 , 0.49754903, 0.6544118 ],\n",
       "          ...,\n",
       "          [0.72132355, 0.50441176, 0.45416668],\n",
       "          [0.7247549 , 0.5012255 , 0.5127451 ],\n",
       "          [0.73357844, 0.5026961 , 0.54509807]],\n",
       " \n",
       "         [[0.6431373 , 0.48235294, 0.654902  ],\n",
       "          [0.6360294 , 0.4742647 , 0.6487745 ],\n",
       "          [0.6455882 , 0.49191177, 0.66495097],\n",
       "          ...,\n",
       "          [0.7713235 , 0.4894608 , 0.4227941 ],\n",
       "          [0.76985294, 0.49240196, 0.44166666],\n",
       "          [0.7764706 , 0.48921567, 0.45784312]]],\n",
       " \n",
       " \n",
       "        [[[0.78161764, 0.714951  , 0.8482843 ],\n",
       "          [0.7914216 , 0.7286765 , 0.86985296],\n",
       "          [0.79656863, 0.73382354, 0.8779412 ],\n",
       "          ...,\n",
       "          [0.70490193, 0.65      , 0.7872549 ],\n",
       "          [0.6931372 , 0.65294117, 0.7862745 ],\n",
       "          [0.6872549 , 0.6598039 , 0.7892157 ]],\n",
       " \n",
       "         [[0.79068625, 0.72107846, 0.8632353 ],\n",
       "          [0.7970588 , 0.73088235, 0.872549  ],\n",
       "          [0.7970588 , 0.7323529 , 0.8776961 ],\n",
       "          ...,\n",
       "          [0.7105392 , 0.6497549 , 0.78995097],\n",
       "          [0.6958333 , 0.6526961 , 0.7860294 ],\n",
       "          [0.69289213, 0.65588236, 0.7884804 ]],\n",
       " \n",
       "         [[0.80490196, 0.7264706 , 0.8715686 ],\n",
       "          [0.8007353 , 0.73308825, 0.8762255 ],\n",
       "          [0.8068628 , 0.7362745 , 0.88529414],\n",
       "          ...,\n",
       "          [0.70955884, 0.6487745 , 0.7919118 ],\n",
       "          [0.7014706 , 0.65318626, 0.79264706],\n",
       "          [0.70098037, 0.65588236, 0.79509807]],\n",
       " \n",
       "         ...,\n",
       " \n",
       "         [[0.6460784 , 0.54019606, 0.70098037],\n",
       "          [0.64730394, 0.5355392 , 0.68259805],\n",
       "          [0.65343136, 0.529902  , 0.67401963],\n",
       "          ...,\n",
       "          [0.717402  , 0.5862745 , 0.62647057],\n",
       "          [0.7105392 , 0.59436274, 0.6735294 ],\n",
       "          [0.69534314, 0.59166664, 0.6865196 ]],\n",
       " \n",
       "         [[0.6335784 , 0.5254902 , 0.67745095],\n",
       "          [0.6512255 , 0.53431374, 0.6754902 ],\n",
       "          [0.6627451 , 0.53210783, 0.67058825],\n",
       "          ...,\n",
       "          [0.7590686 , 0.5470588 , 0.5004902 ],\n",
       "          [0.7345588 , 0.54313725, 0.56397057],\n",
       "          [0.72843134, 0.5588235 , 0.6166667 ]],\n",
       " \n",
       "         [[0.64215684, 0.5362745 , 0.6671569 ],\n",
       "          [0.6372549 , 0.52156866, 0.64411765],\n",
       "          [0.6551471 , 0.5247549 , 0.65318626],\n",
       "          ...,\n",
       "          [0.7735294 , 0.49509802, 0.3882353 ],\n",
       "          [0.77181375, 0.52009803, 0.44142157],\n",
       "          [0.7647059 , 0.5330882 , 0.45196077]]],\n",
       " \n",
       " \n",
       "        ...,\n",
       " \n",
       " \n",
       "        [[[0.8002451 , 0.7296569 , 0.8786765 ],\n",
       "          [0.79289216, 0.73014706, 0.8742647 ],\n",
       "          [0.7884804 , 0.7286765 , 0.8610294 ],\n",
       "          ...,\n",
       "          [0.7115196 , 0.6487745 , 0.79093134],\n",
       "          [0.70686275, 0.65      , 0.7921569 ],\n",
       "          [0.6990196 , 0.64411765, 0.7852941 ]],\n",
       " \n",
       "         [[0.7992647 , 0.7286765 , 0.8776961 ],\n",
       "          [0.79338235, 0.7254902 , 0.87107843],\n",
       "          [0.7911765 , 0.72843134, 0.86960787],\n",
       "          ...,\n",
       "          [0.70955884, 0.64681375, 0.7889706 ],\n",
       "          [0.7019608 , 0.64509803, 0.7872549 ],\n",
       "          [0.7144608 , 0.65955883, 0.8007353 ]],\n",
       " \n",
       "         [[0.79901963, 0.7321078 , 0.8693628 ],\n",
       "          [0.7980392 , 0.7323529 , 0.8691176 ],\n",
       "          [0.7919118 , 0.7291667 , 0.87034315],\n",
       "          ...,\n",
       "          [0.70955884, 0.64681375, 0.7889706 ],\n",
       "          [0.70710784, 0.6458333 , 0.79019606],\n",
       "          [0.7088235 , 0.6480392 , 0.7921569 ]],\n",
       " \n",
       "         ...,\n",
       " \n",
       "         [[0.63529414, 0.5362745 , 0.6882353 ],\n",
       "          [0.6490196 , 0.54289216, 0.6985294 ],\n",
       "          [0.65343136, 0.5355392 , 0.69558823],\n",
       "          ...,\n",
       "          [0.7237745 , 0.60318625, 0.6191176 ],\n",
       "          [0.7107843 , 0.6066176 , 0.6612745 ],\n",
       "          [0.6901961 , 0.59289217, 0.67696077]],\n",
       " \n",
       "         [[0.6480392 , 0.5362745 , 0.6490196 ],\n",
       "          [0.6490196 , 0.5372549 , 0.65857846],\n",
       "          [0.65416664, 0.5372549 , 0.6767157 ],\n",
       "          ...,\n",
       "          [0.7348039 , 0.52818626, 0.45833334],\n",
       "          [0.7254902 , 0.5360294 , 0.5093137 ],\n",
       "          [0.73063725, 0.55196077, 0.5737745 ]],\n",
       " \n",
       "         [[0.6502451 , 0.5365196 , 0.62083334],\n",
       "          [0.64681375, 0.5301471 , 0.63553923],\n",
       "          [0.64436275, 0.5276961 , 0.6580882 ],\n",
       "          ...,\n",
       "          [0.7656863 , 0.5063726 , 0.36666667],\n",
       "          [0.76887256, 0.5183824 , 0.38235295],\n",
       "          [0.76029414, 0.5088235 , 0.39754903]]],\n",
       " \n",
       " \n",
       "        [[[0.8215686 , 0.72745097, 0.8607843 ],\n",
       "          [0.8068628 , 0.71568626, 0.8480392 ],\n",
       "          [0.8115196 , 0.7262255 , 0.86446077],\n",
       "          ...,\n",
       "          [0.71642154, 0.6507353 , 0.7919118 ],\n",
       "          [0.7139706 , 0.65710783, 0.79534316],\n",
       "          [0.73357844, 0.6838235 , 0.81936276]],\n",
       " \n",
       "         [[0.8098039 , 0.7294118 , 0.85784316],\n",
       "          [0.81078434, 0.73014706, 0.8593137 ],\n",
       "          [0.80588233, 0.7223039 , 0.8602941 ],\n",
       "          ...,\n",
       "          [0.7105392 , 0.6477941 , 0.7892157 ],\n",
       "          [0.7127451 , 0.65      , 0.7921569 ],\n",
       "          [0.7264706 , 0.6696078 , 0.8088235 ]],\n",
       " \n",
       "         [[0.79240197, 0.7237745 , 0.85514706],\n",
       "          [0.7916667 , 0.7205882 , 0.85343134],\n",
       "          [0.7892157 , 0.7107843 , 0.8480392 ],\n",
       "          ...,\n",
       "          [0.7085784 , 0.6458333 , 0.79019606],\n",
       "          [0.7147059 , 0.65637255, 0.7992647 ],\n",
       "          [0.73357844, 0.6767157 , 0.8188726 ]],\n",
       " \n",
       "         ...,\n",
       " \n",
       "         [[0.6370098 , 0.5272059 , 0.6781863 ],\n",
       "          [0.6551471 , 0.53455883, 0.68921566],\n",
       "          [0.65661764, 0.52230394, 0.68014705],\n",
       "          ...,\n",
       "          [0.7017157 , 0.6110294 , 0.69191176],\n",
       "          [0.68921566, 0.6       , 0.68333334],\n",
       "          [0.69509804, 0.60294116, 0.68235296]],\n",
       " \n",
       "         [[0.6480392 , 0.5382353 , 0.6960784 ],\n",
       "          [0.65833336, 0.5355392 , 0.69754905],\n",
       "          [0.67058825, 0.5360294 , 0.7002451 ],\n",
       "          ...,\n",
       "          [0.7083333 , 0.5625    , 0.6066176 ],\n",
       "          [0.72083336, 0.597549  , 0.6767157 ],\n",
       "          [0.70637256, 0.6017157 , 0.6870098 ]],\n",
       " \n",
       "         [[0.6372549 , 0.53137255, 0.65882355],\n",
       "          [0.6431373 , 0.5242647 , 0.65833336],\n",
       "          [0.66862744, 0.53431374, 0.6897059 ],\n",
       "          ...,\n",
       "          [0.75784314, 0.50416666, 0.46372548],\n",
       "          [0.7443628 , 0.53039217, 0.5352941 ],\n",
       "          [0.7267157 , 0.54534316, 0.5681372 ]]],\n",
       " \n",
       " \n",
       "        [[[0.79558825, 0.73284316, 0.84656864],\n",
       "          [0.7911765 , 0.7323529 , 0.8480392 ],\n",
       "          [0.78455883, 0.7257353 , 0.85318625],\n",
       "          ...,\n",
       "          [0.7029412 , 0.6382353 , 0.78210783],\n",
       "          [0.7137255 , 0.6460784 , 0.7892157 ],\n",
       "          [0.72156864, 0.6431373 , 0.7867647 ]],\n",
       " \n",
       "         [[0.79534316, 0.7286765 , 0.85808825],\n",
       "          [0.7914216 , 0.73259807, 0.85759807],\n",
       "          [0.78995097, 0.73112744, 0.8605392 ],\n",
       "          ...,\n",
       "          [0.71568626, 0.65686274, 0.7862745 ],\n",
       "          [0.7127451 , 0.6480392 , 0.7745098 ],\n",
       "          [0.71960783, 0.64705884, 0.77254903]],\n",
       " \n",
       "         [[0.7892157 , 0.7252451 , 0.8713235 ],\n",
       "          [0.7921569 , 0.73039216, 0.8686274 ],\n",
       "          [0.78995097, 0.72818625, 0.8664216 ],\n",
       "          ...,\n",
       "          [0.70980394, 0.64705884, 0.7911765 ],\n",
       "          [0.7088235 , 0.6433824 , 0.7823529 ],\n",
       "          [0.70686275, 0.6401961 , 0.7794118 ]],\n",
       " \n",
       "         ...,\n",
       " \n",
       "         [[0.6519608 , 0.5470588 , 0.6617647 ],\n",
       "          [0.6634804 , 0.54387254, 0.6666667 ],\n",
       "          [0.654902  , 0.51985294, 0.65588236],\n",
       "          ...,\n",
       "          [0.7031863 , 0.5855392 , 0.6377451 ],\n",
       "          [0.7122549 , 0.6066176 , 0.68235296],\n",
       "          [0.7012255 , 0.60857844, 0.6852941 ]],\n",
       " \n",
       "         [[0.65588236, 0.53431374, 0.65588236],\n",
       "          [0.6691176 , 0.5357843 , 0.6602941 ],\n",
       "          [0.66789216, 0.5235294 , 0.65833336],\n",
       "          ...,\n",
       "          [0.71593136, 0.51593137, 0.4732843 ],\n",
       "          [0.7235294 , 0.5509804 , 0.5470588 ],\n",
       "          [0.7122549 , 0.55735296, 0.57598037]],\n",
       " \n",
       "         [[0.6392157 , 0.5382353 , 0.6519608 ],\n",
       "          [0.6502451 , 0.5272059 , 0.65      ],\n",
       "          [0.6598039 , 0.5227941 , 0.6522059 ],\n",
       "          ...,\n",
       "          [0.7470588 , 0.48284313, 0.3767157 ],\n",
       "          [0.7384804 , 0.49436274, 0.41911766],\n",
       "          [0.7323529 , 0.5019608 , 0.44313726]]]], dtype=float32),\n",
       " array([[[[0.4897059 , 0.38382354, 0.21519607],\n",
       "          [0.4227941 , 0.32671568, 0.16593137],\n",
       "          [0.38235295, 0.29509804, 0.14019608],\n",
       "          ...,\n",
       "          [0.42671567, 0.5129902 , 0.25906864],\n",
       "          [0.4242647 , 0.51053923, 0.25955883],\n",
       "          [0.4245098 , 0.5107843 , 0.25980392]],\n",
       " \n",
       "         [[0.45563725, 0.3497549 , 0.17132352],\n",
       "          [0.40220588, 0.30906862, 0.1384804 ],\n",
       "          [0.3752451 , 0.28799018, 0.13137256],\n",
       "          ...,\n",
       "          [0.42352942, 0.50980395, 0.25490198],\n",
       "          [0.42352942, 0.50980395, 0.25784314],\n",
       "          [0.43039215, 0.51666665, 0.26568627]],\n",
       " \n",
       "         [[0.46372548, 0.3617647 , 0.16813725],\n",
       "          [0.41421568, 0.32107842, 0.14264706],\n",
       "          [0.3887255 , 0.30147058, 0.13970588],\n",
       "          ...,\n",
       "          [0.43112746, 0.51740193, 0.2625    ],\n",
       "          [0.43946078, 0.5257353 , 0.2737745 ],\n",
       "          [0.45      , 0.5362745 , 0.29117647]],\n",
       " \n",
       "         ...,\n",
       " \n",
       "         [[0.31593138, 0.4139706 , 0.19828431],\n",
       "          [0.33529413, 0.4254902 , 0.21372549],\n",
       "          [0.3514706 , 0.44166666, 0.22990195],\n",
       "          ...,\n",
       "          [0.16593137, 0.24730392, 0.26887256],\n",
       "          [0.16887255, 0.24730392, 0.2747549 ],\n",
       "          [0.15490197, 0.23333333, 0.26078433]],\n",
       " \n",
       "         [[0.3735294 , 0.46862745, 0.2617647 ],\n",
       "          [0.39240196, 0.48259804, 0.27083334],\n",
       "          [0.36838236, 0.45857844, 0.24681373],\n",
       "          ...,\n",
       "          [0.15490197, 0.23627451, 0.25784314],\n",
       "          [0.15808824, 0.2365196 , 0.26397058],\n",
       "          [0.15857843, 0.23700981, 0.26446077]],\n",
       " \n",
       "         [[0.39460784, 0.48872548, 0.28480393],\n",
       "          [0.43161765, 0.52181375, 0.31789216],\n",
       "          [0.38259804, 0.47279412, 0.2629902 ],\n",
       "          ...,\n",
       "          [0.15882353, 0.24019608, 0.2617647 ],\n",
       "          [0.16960785, 0.24803922, 0.2754902 ],\n",
       "          [0.17156863, 0.25      , 0.27745098]]],\n",
       " \n",
       " \n",
       "        [[[0.7607843 , 0.6156863 , 0.74313724],\n",
       "          [0.7590686 , 0.61495095, 0.7495098 ],\n",
       "          [0.7593137 , 0.61813724, 0.7651961 ],\n",
       "          ...,\n",
       "          [0.7894608 , 0.73137254, 0.85490197],\n",
       "          [0.7713235 , 0.71642154, 0.8473039 ],\n",
       "          [0.7875    , 0.7286765 , 0.8566176 ]],\n",
       " \n",
       "         [[0.7507353 , 0.6017157 , 0.7487745 ],\n",
       "          [0.7642157 , 0.6166667 , 0.7708333 ],\n",
       "          [0.7497549 , 0.6066176 , 0.75710785],\n",
       "          ...,\n",
       "          [0.7654412 , 0.71862745, 0.8355392 ],\n",
       "          [0.77794117, 0.7289216 , 0.84656864],\n",
       "          [0.7872549 , 0.7286765 , 0.84166664]],\n",
       " \n",
       "         [[0.76348037, 0.61151963, 0.78112745],\n",
       "          [0.75171566, 0.6004902 , 0.7678922 ],\n",
       "          [0.7703431 , 0.6213235 , 0.7762255 ],\n",
       "          ...,\n",
       "          [0.7703431 , 0.7242647 , 0.82867646],\n",
       "          [0.77181375, 0.7235294 , 0.8330882 ],\n",
       "          [0.77818626, 0.7232843 , 0.8252451 ]],\n",
       " \n",
       "         ...,\n",
       " \n",
       "         [[0.65882355, 0.52156866, 0.6502451 ],\n",
       "          [0.66568625, 0.527451  , 0.6897059 ],\n",
       "          [0.6392157 , 0.50465685, 0.6887255 ],\n",
       "          ...,\n",
       "          [0.8887255 , 0.63553923, 0.34117648],\n",
       "          [0.8617647 , 0.5715686 , 0.33970588],\n",
       "          [0.85637254, 0.5178922 , 0.3107843 ]],\n",
       " \n",
       "         [[0.6276961 , 0.4867647 , 0.6272059 ],\n",
       "          [0.6357843 , 0.49387255, 0.65539217],\n",
       "          [0.6286765 , 0.4875    , 0.6620098 ],\n",
       "          ...,\n",
       "          [0.89485294, 0.6387255 , 0.3647059 ],\n",
       "          [0.782598  , 0.48872548, 0.2764706 ],\n",
       "          [0.8264706 , 0.49509802, 0.30882353]],\n",
       " \n",
       "         [[0.6156863 , 0.47843137, 0.60784316],\n",
       "          [0.6164216 , 0.47720587, 0.6237745 ],\n",
       "          [0.6120098 , 0.48382354, 0.63553923],\n",
       "          ...,\n",
       "          [0.86519605, 0.6254902 , 0.3865196 ],\n",
       "          [0.74828434, 0.46568626, 0.27794117],\n",
       "          [0.8068628 , 0.4872549 , 0.31813726]]],\n",
       " \n",
       " \n",
       "        [[[0.7497549 , 0.7110294 , 0.83235294],\n",
       "          [0.7316176 , 0.6963235 , 0.81642157],\n",
       "          [0.7529412 , 0.7117647 , 0.8362745 ],\n",
       "          ...,\n",
       "          [0.78063726, 0.7436274 , 0.85759807],\n",
       "          [0.7941176 , 0.74607843, 0.85490197],\n",
       "          [0.7752451 , 0.7242647 , 0.8262255 ]],\n",
       " \n",
       "         [[0.74215686, 0.70490193, 0.847549  ],\n",
       "          [0.73284316, 0.7022059 , 0.8392157 ],\n",
       "          [0.7492647 , 0.7085784 , 0.8419118 ],\n",
       "          ...,\n",
       "          [0.78088236, 0.7416667 , 0.8629902 ],\n",
       "          [0.7865196 , 0.7355392 , 0.8495098 ],\n",
       "          [0.78431374, 0.7252451 , 0.8367647 ]],\n",
       " \n",
       "         [[0.74019605, 0.7056373 , 0.8742647 ],\n",
       "          [0.74583334, 0.7144608 , 0.8654412 ],\n",
       "          [0.7502451 , 0.7139706 , 0.8473039 ],\n",
       "          ...,\n",
       "          [0.7823529 , 0.7362745 , 0.8627451 ],\n",
       "          [0.7875    , 0.72990197, 0.85269606],\n",
       "          [0.79583335, 0.7360294 , 0.85563725]],\n",
       " \n",
       "         ...,\n",
       " \n",
       "         [[0.62892157, 0.54362744, 0.72107846],\n",
       "          [0.6161765 , 0.5323529 , 0.7017157 ],\n",
       "          [0.60637254, 0.5181373 , 0.6897059 ],\n",
       "          ...,\n",
       "          [0.9625    , 0.7291667 , 0.34583333],\n",
       "          [0.9411765 , 0.72156864, 0.35343137],\n",
       "          [0.92401963, 0.70735294, 0.34068626]],\n",
       " \n",
       "         [[0.6492647 , 0.55833334, 0.73088235],\n",
       "          [0.61960787, 0.5328431 , 0.7022059 ],\n",
       "          [0.60637254, 0.53063726, 0.6911765 ],\n",
       "          ...,\n",
       "          [0.9629902 , 0.73259807, 0.34142157],\n",
       "          [0.92941177, 0.7078431 , 0.327451  ],\n",
       "          [0.91862744, 0.70490193, 0.32009804]],\n",
       " \n",
       "         [[0.7117647 , 0.60808825, 0.78455883],\n",
       "          [0.64117646, 0.5497549 , 0.7137255 ],\n",
       "          [0.61960787, 0.5370098 , 0.689951  ],\n",
       "          ...,\n",
       "          [0.9436275 , 0.71666664, 0.32818627],\n",
       "          [0.92965686, 0.7107843 , 0.34558824],\n",
       "          [0.9218137 , 0.70955884, 0.34509805]]],\n",
       " \n",
       " \n",
       "        ...,\n",
       " \n",
       " \n",
       "        [[[0.6362745 , 0.6362745 , 0.6362745 ],\n",
       "          [0.59142154, 0.59142154, 0.59142154],\n",
       "          [0.58455884, 0.58455884, 0.58455884],\n",
       "          ...,\n",
       "          [0.6002451 , 0.6002451 , 0.6002451 ],\n",
       "          [0.6313726 , 0.6313726 , 0.6313726 ],\n",
       "          [0.6068627 , 0.6068627 , 0.6068627 ]],\n",
       " \n",
       "         [[0.6166667 , 0.6166667 , 0.6166667 ],\n",
       "          [0.63039213, 0.63039213, 0.63039213],\n",
       "          [0.6007353 , 0.6007353 , 0.6007353 ],\n",
       "          ...,\n",
       "          [0.5948529 , 0.5948529 , 0.5948529 ],\n",
       "          [0.60514706, 0.60514706, 0.60514706],\n",
       "          [0.59436274, 0.59436274, 0.59436274]],\n",
       " \n",
       "         [[0.627451  , 0.627451  , 0.627451  ],\n",
       "          [0.63235295, 0.63235295, 0.63235295],\n",
       "          [0.6071078 , 0.6071078 , 0.6071078 ],\n",
       "          ...,\n",
       "          [0.6       , 0.6       , 0.6       ],\n",
       "          [0.5894608 , 0.5894608 , 0.5894608 ],\n",
       "          [0.5921569 , 0.5921569 , 0.5921569 ]],\n",
       " \n",
       "         ...,\n",
       " \n",
       "         [[0.7647059 , 0.14803922, 0.19509804],\n",
       "          [0.6723039 , 0.08161765, 0.13333334],\n",
       "          [0.54558825, 0.08848039, 0.13504902],\n",
       "          ...,\n",
       "          [0.55465686, 0.5468137 , 0.5507353 ],\n",
       "          [0.5629902 , 0.55514705, 0.5590686 ],\n",
       "          [0.5656863 , 0.55784315, 0.5617647 ]],\n",
       " \n",
       "         [[0.7625    , 0.125     , 0.18308823],\n",
       "          [0.6625    , 0.08627451, 0.1627451 ],\n",
       "          [0.34166667, 0.04877451, 0.08946078],\n",
       "          ...,\n",
       "          [0.56764704, 0.5598039 , 0.5637255 ],\n",
       "          [0.5683824 , 0.5605392 , 0.5644608 ],\n",
       "          [0.5754902 , 0.56764704, 0.5715686 ]],\n",
       " \n",
       "         [[0.7617647 , 0.13039216, 0.1764706 ],\n",
       "          [0.5882353 , 0.08406863, 0.14191176],\n",
       "          [0.22254902, 0.04803922, 0.06764706],\n",
       "          ...,\n",
       "          [0.5747549 , 0.56691176, 0.5708333 ],\n",
       "          [0.56960785, 0.5617647 , 0.5656863 ],\n",
       "          [0.5754902 , 0.56764704, 0.5715686 ]]],\n",
       " \n",
       " \n",
       "        [[[0.        , 0.        , 0.        ],\n",
       "          [0.        , 0.        , 0.        ],\n",
       "          [0.        , 0.        , 0.        ],\n",
       "          ...,\n",
       "          [0.        , 0.        , 0.        ],\n",
       "          [0.        , 0.        , 0.        ],\n",
       "          [0.        , 0.        , 0.        ]],\n",
       " \n",
       "         [[0.        , 0.        , 0.        ],\n",
       "          [0.        , 0.        , 0.        ],\n",
       "          [0.        , 0.        , 0.        ],\n",
       "          ...,\n",
       "          [0.        , 0.        , 0.        ],\n",
       "          [0.        , 0.        , 0.        ],\n",
       "          [0.        , 0.        , 0.        ]],\n",
       " \n",
       "         [[0.        , 0.        , 0.        ],\n",
       "          [0.        , 0.        , 0.        ],\n",
       "          [0.        , 0.        , 0.        ],\n",
       "          ...,\n",
       "          [0.        , 0.        , 0.        ],\n",
       "          [0.        , 0.        , 0.        ],\n",
       "          [0.        , 0.        , 0.        ]],\n",
       " \n",
       "         ...,\n",
       " \n",
       "         [[0.06151961, 0.05759804, 0.08897059],\n",
       "          [0.08357843, 0.07965686, 0.11102941],\n",
       "          [0.11446078, 0.11053921, 0.1360294 ],\n",
       "          ...,\n",
       "          [0.2764706 , 0.25220588, 0.20465687],\n",
       "          [0.7404412 , 0.7198529 , 0.6482843 ],\n",
       "          [0.82892156, 0.810049  , 0.72156864]],\n",
       " \n",
       "         [[0.19289216, 0.1889706 , 0.22034314],\n",
       "          [0.21740197, 0.2134804 , 0.24485295],\n",
       "          [0.22965686, 0.22573529, 0.2512255 ],\n",
       "          ...,\n",
       "          [0.1497549 , 0.12254902, 0.0872549 ],\n",
       "          [0.4995098 , 0.4759804 , 0.4151961 ],\n",
       "          [0.81715685, 0.797549  , 0.71862745]],\n",
       " \n",
       "         [[0.27769607, 0.2737745 , 0.30514705],\n",
       "          [0.2605392 , 0.25661764, 0.28799018],\n",
       "          [0.23259804, 0.22867647, 0.25416666],\n",
       "          ...,\n",
       "          [0.12279411, 0.09534314, 0.06985294],\n",
       "          [0.19754902, 0.1740196 , 0.12254902],\n",
       "          [0.7678922 , 0.747549  , 0.6752451 ]]],\n",
       " \n",
       " \n",
       "        [[[0.80514705, 0.714951  , 0.88308823],\n",
       "          [0.8129902 , 0.7230392 , 0.87916666],\n",
       "          [0.825     , 0.7291667 , 0.8754902 ],\n",
       "          ...,\n",
       "          [0.8186275 , 0.7519608 , 0.88529414],\n",
       "          [0.8066176 , 0.74583334, 0.87034315],\n",
       "          [0.8029412 , 0.7441176 , 0.8656863 ]],\n",
       " \n",
       "         [[0.82303923, 0.725     , 0.8897059 ],\n",
       "          [0.8036765 , 0.7056373 , 0.86151963],\n",
       "          [0.8105392 , 0.7169118 , 0.8610294 ],\n",
       "          ...,\n",
       "          [0.81397057, 0.7473039 , 0.8806372 ],\n",
       "          [0.8034314 , 0.7411765 , 0.8664216 ],\n",
       "          [0.7970588 , 0.7382353 , 0.8598039 ]],\n",
       " \n",
       "         [[0.8144608 , 0.71642154, 0.8737745 ],\n",
       "          [0.827451  , 0.7316176 , 0.8838235 ],\n",
       "          [0.7970588 , 0.71004903, 0.8519608 ],\n",
       "          ...,\n",
       "          [0.80563724, 0.7389706 , 0.87083334],\n",
       "          [0.80784315, 0.7411765 , 0.86715686],\n",
       "          [0.80196077, 0.74313724, 0.86470586]],\n",
       " \n",
       "         ...,\n",
       " \n",
       "         [[0.6764706 , 0.5480392 , 0.72843134],\n",
       "          [0.6911765 , 0.54656863, 0.7316176 ],\n",
       "          [0.672549  , 0.54240197, 0.7257353 ],\n",
       "          ...,\n",
       "          [0.95710784, 0.7355392 , 0.40833333],\n",
       "          [0.90686274, 0.675     , 0.37843138],\n",
       "          [0.8519608 , 0.61740196, 0.33186275]],\n",
       " \n",
       "         [[0.6727941 , 0.5414216 , 0.7372549 ],\n",
       "          [0.6757353 , 0.5259804 , 0.71617645],\n",
       "          [0.6718137 , 0.53137255, 0.70735294],\n",
       "          ...,\n",
       "          [0.9580882 , 0.7345588 , 0.3875    ],\n",
       "          [0.9051471 , 0.67769605, 0.35416666],\n",
       "          [0.85245097, 0.62107843, 0.3156863 ]],\n",
       " \n",
       "         [[0.68921566, 0.55784315, 0.75686276],\n",
       "          [0.6901961 , 0.53333336, 0.7294118 ],\n",
       "          [0.67107844, 0.527451  , 0.7022059 ],\n",
       "          ...,\n",
       "          [0.9647059 , 0.74019605, 0.40245098],\n",
       "          [0.90294117, 0.672549  , 0.35833332],\n",
       "          [0.8522059 , 0.62083334, 0.31838235]]]], dtype=float32),\n",
       " array([0., 1., 1., 1., 1., 1., 1., 0., 1., 1., 1., 0., 0., 0., 0., 1.],\n",
       "       dtype=float32))"
      ]
     },
     "execution_count": 73,
     "metadata": {},
     "output_type": "execute_result"
    }
   ],
   "source": [
    "batch1"
   ]
  },
  {
   "cell_type": "code",
   "execution_count": 74,
   "id": "95e6ec9d",
   "metadata": {},
   "outputs": [
    {
     "data": {
      "text/plain": [
       "array([0., 1., 1., 1., 1., 1., 1., 0., 1., 1., 1., 0., 0., 0., 0., 1.],\n",
       "      dtype=float32)"
      ]
     },
     "execution_count": 74,
     "metadata": {},
     "output_type": "execute_result"
    }
   ],
   "source": [
    "batch1[2]"
   ]
  },
  {
   "cell_type": "code",
   "execution_count": 75,
   "id": "546e5be9",
   "metadata": {},
   "outputs": [
    {
     "name": "stdout",
     "output_type": "stream",
     "text": [
      "(2, 16, 100, 100, 3)\n"
     ]
    }
   ],
   "source": [
    "X=batch1[:2];\n",
    "X=np.array(X);\n",
    "print(X.shape)"
   ]
  },
  {
   "cell_type": "code",
   "execution_count": 76,
   "id": "989b3663",
   "metadata": {},
   "outputs": [],
   "source": [
    "#definng training function process\n",
    "@tf.function\n",
    "def train_step(batch):\n",
    "    #record all the operationss;\n",
    "    with tf.GradientTape() as tape:\n",
    "        X=batch[:2];\n",
    "        #get label;\n",
    "        y=batch[2];\n",
    "    \n",
    "        yhat=siamese_model(X,training=True);\n",
    "        loss=binary_cross_loss(y,yhat);\n",
    "    print(loss);\n",
    "    grad=tape.gradient(loss,siamese_model.trainable_variables);\n",
    "    opt.apply_gradients(zip(grad,siamese_model.trainable_variables));\n",
    "    return loss;\n",
    "   "
   ]
  },
  {
   "cell_type": "markdown",
   "id": "e07ee900",
   "metadata": {},
   "source": [
    "# BUILD TRAINING LOOP"
   ]
  },
  {
   "cell_type": "code",
   "execution_count": 77,
   "id": "3c8b6b15",
   "metadata": {},
   "outputs": [],
   "source": [
    "def train(data,EPOCHS):\n",
    "    #loop through epochs;\n",
    "    for epoch in range(1,EPOCHS+1):\n",
    "        print('\\n Epoch {}/{}'.format(epoch,EPOCHS));\n",
    "        progbar=tf.keras.utils.Progbar(len(data));\n",
    "        #loop through each batch;\n",
    "        for idx,batch in enumerate(data):\n",
    "            #run train_stephere;\n",
    "            train_step(batch);\n",
    "            progbar.update(idx+1);\n",
    "        \n",
    "        #save checkpoints:\n",
    "        if epoch %10==0:\n",
    "            checkpoint.save(file_prefix=checkpoint_prefix)\n",
    "    \n",
    "        \n",
    "    \n",
    "    \n",
    "    \n",
    "    \n",
    "    "
   ]
  },
  {
   "cell_type": "markdown",
   "id": "b26d550e",
   "metadata": {},
   "source": [
    "# Train the model"
   ]
  },
  {
   "cell_type": "code",
   "execution_count": 78,
   "id": "34b5a1b9",
   "metadata": {},
   "outputs": [],
   "source": [
    "EPOCHS=50;\n",
    "\n"
   ]
  },
  {
   "cell_type": "code",
   "execution_count": 79,
   "id": "2d6f81c2",
   "metadata": {},
   "outputs": [
    {
     "name": "stdout",
     "output_type": "stream",
     "text": [
      "\n",
      " Epoch 1/50\n",
      "Tensor(\"binary_crossentropy/weighted_loss/value:0\", shape=(), dtype=float32)\n",
      "Tensor(\"binary_crossentropy/weighted_loss/value:0\", shape=(), dtype=float32)\n",
      "3/4 [=====================>........] - ETA: 30s Tensor(\"binary_crossentropy/weighted_loss/value:0\", shape=(), dtype=float32)\n",
      "4/4 [==============================] - 106s 24s/step\n",
      "\n",
      " Epoch 2/50\n",
      "4/4 [==============================] - 77s 18s/step\n",
      "\n",
      " Epoch 3/50\n",
      "4/4 [==============================] - 88s 22s/step\n",
      "\n",
      " Epoch 4/50\n",
      "4/4 [==============================] - 187s 54s/step\n",
      "\n",
      " Epoch 5/50\n",
      "4/4 [==============================] - 281s 57s/step\n",
      "\n",
      " Epoch 6/50\n",
      "4/4 [==============================] - 244s 51s/step\n",
      "\n",
      " Epoch 7/50\n",
      "4/4 [==============================] - 216s 51s/step\n",
      "\n",
      " Epoch 8/50\n",
      "4/4 [==============================] - 213s 51s/step\n",
      "\n",
      " Epoch 9/50\n",
      "4/4 [==============================] - 213s 51s/step\n",
      "\n",
      " Epoch 10/50\n",
      "4/4 [==============================] - 164s 34s/step\n",
      "\n",
      " Epoch 11/50\n",
      "4/4 [==============================] - 88s 21s/step\n",
      "\n",
      " Epoch 12/50\n",
      "4/4 [==============================] - 86s 20s/step\n",
      "\n",
      " Epoch 13/50\n",
      "4/4 [==============================] - 85s 20s/step\n",
      "\n",
      " Epoch 14/50\n",
      "4/4 [==============================] - 87s 21s/step\n",
      "\n",
      " Epoch 15/50\n",
      "4/4 [==============================] - 86s 21s/step\n",
      "\n",
      " Epoch 16/50\n",
      "4/4 [==============================] - 84s 20s/step\n",
      "\n",
      " Epoch 17/50\n",
      "4/4 [==============================] - 86s 20s/step\n",
      "\n",
      " Epoch 18/50\n",
      "4/4 [==============================] - 84s 20s/step\n",
      "\n",
      " Epoch 19/50\n",
      "4/4 [==============================] - 84s 20s/step\n",
      "\n",
      " Epoch 20/50\n",
      "4/4 [==============================] - 84s 20s/step\n",
      "\n",
      " Epoch 21/50\n",
      "4/4 [==============================] - 84s 20s/step\n",
      "\n",
      " Epoch 22/50\n",
      "4/4 [==============================] - 85s 20s/step\n",
      "\n",
      " Epoch 23/50\n",
      "4/4 [==============================] - 84s 20s/step\n",
      "\n",
      " Epoch 24/50\n",
      "4/4 [==============================] - 84s 20s/step\n",
      "\n",
      " Epoch 25/50\n",
      "4/4 [==============================] - 84s 20s/step\n",
      "\n",
      " Epoch 26/50\n",
      "4/4 [==============================] - 84s 20s/step\n",
      "\n",
      " Epoch 27/50\n",
      "4/4 [==============================] - 86s 21s/step\n",
      "\n",
      " Epoch 28/50\n",
      "4/4 [==============================] - 87s 20s/step\n",
      "\n",
      " Epoch 29/50\n",
      "4/4 [==============================] - 86s 20s/step\n",
      "\n",
      " Epoch 30/50\n",
      "4/4 [==============================] - 83s 20s/step\n",
      "\n",
      " Epoch 31/50\n",
      "4/4 [==============================] - 83s 20s/step\n",
      "\n",
      " Epoch 32/50\n",
      "4/4 [==============================] - 84s 20s/step\n",
      "\n",
      " Epoch 33/50\n",
      "4/4 [==============================] - 83s 20s/step\n",
      "\n",
      " Epoch 34/50\n",
      "4/4 [==============================] - 84s 20s/step\n",
      "\n",
      " Epoch 35/50\n",
      "4/4 [==============================] - 84s 20s/step\n",
      "\n",
      " Epoch 36/50\n",
      "4/4 [==============================] - 84s 20s/step\n",
      "\n",
      " Epoch 37/50\n",
      "4/4 [==============================] - 86s 20s/step\n",
      "\n",
      " Epoch 38/50\n",
      "4/4 [==============================] - 83s 20s/step\n",
      "\n",
      " Epoch 39/50\n",
      "4/4 [==============================] - 85s 20s/step\n",
      "\n",
      " Epoch 40/50\n",
      "4/4 [==============================] - 83s 20s/step\n",
      "\n",
      " Epoch 41/50\n",
      "4/4 [==============================] - 86s 20s/step\n",
      "\n",
      " Epoch 42/50\n",
      "4/4 [==============================] - 83s 20s/step\n",
      "\n",
      " Epoch 43/50\n",
      "4/4 [==============================] - 86s 20s/step\n",
      "\n",
      " Epoch 44/50\n",
      "4/4 [==============================] - 85s 21s/step\n",
      "\n",
      " Epoch 45/50\n",
      "4/4 [==============================] - 84s 20s/step\n",
      "\n",
      " Epoch 46/50\n",
      "4/4 [==============================] - 85s 20s/step\n",
      "\n",
      " Epoch 47/50\n",
      "4/4 [==============================] - 84s 20s/step\n",
      "\n",
      " Epoch 48/50\n",
      "4/4 [==============================] - 86s 20s/step\n",
      "\n",
      " Epoch 49/50\n",
      "4/4 [==============================] - 85s 20s/step\n",
      "\n",
      " Epoch 50/50\n",
      "4/4 [==============================] - 86s 21s/step\n"
     ]
    }
   ],
   "source": [
    "train(train_data,EPOCHS)"
   ]
  },
  {
   "cell_type": "markdown",
   "id": "dfb7c7a6",
   "metadata": {},
   "source": [
    "# testing the model"
   ]
  },
  {
   "cell_type": "code",
   "execution_count": 80,
   "id": "30eff550",
   "metadata": {},
   "outputs": [],
   "source": [
    "#import  metric calculatins;\n",
    "from tensorflow.keras.metrics import Precision,Recall;"
   ]
  },
  {
   "cell_type": "code",
   "execution_count": 81,
   "id": "4f4d0216",
   "metadata": {},
   "outputs": [],
   "source": [
    "#test partitions\n",
    "test_data=data.skip(round(len(data)*.7));\n",
    "test_data=test_data.take(round(len(data)*.3));\n",
    "test_data=test_data.batch(16);\n",
    "test_data=test_data.prefetch(8)"
   ]
  },
  {
   "cell_type": "code",
   "execution_count": 144,
   "id": "3819d53b",
   "metadata": {},
   "outputs": [],
   "source": [
    "#for making prediction we use this data;\n",
    "# test_input will contain my anchor webcam images;\n",
    "# test_Val images contain my images and other negative images;\n",
    "test_input,test_val,y_true=test_data.as_numpy_iterator().next();"
   ]
  },
  {
   "cell_type": "code",
   "execution_count": 145,
   "id": "1c5aecdb",
   "metadata": {},
   "outputs": [
    {
     "name": "stdout",
     "output_type": "stream",
     "text": [
      "(16, 100, 100, 3) (16, 100, 100, 3) (16,)\n"
     ]
    }
   ],
   "source": [
    "print(test_input.shape,test_val.shape,y_true.shape);"
   ]
  },
  {
   "cell_type": "code",
   "execution_count": 146,
   "id": "8a981726",
   "metadata": {},
   "outputs": [
    {
     "data": {
      "text/plain": [
       "<matplotlib.image.AxesImage at 0x1d8b0ce5fd0>"
      ]
     },
     "execution_count": 146,
     "metadata": {},
     "output_type": "execute_result"
    },
    {
     "data": {
      "image/png": "[encoded data removed]",
      "text/plain": [
       "<Figure size 640x480 with 1 Axes>"
      ]
     },
     "metadata": {},
     "output_type": "display_data"
    }
   ],
   "source": [
    "plt.imshow(test_input[4])"
   ]
  },
  {
   "cell_type": "markdown",
   "id": "5e4c2286",
   "metadata": {},
   "source": [
    "# Make predicions;\n"
   ]
  },
  {
   "cell_type": "code",
   "execution_count": 147,
   "id": "846236fd",
   "metadata": {},
   "outputs": [
    {
     "name": "stdout",
     "output_type": "stream",
     "text": [
      "1/1 [==============================] - 11s 11s/step\n"
     ]
    },
    {
     "data": {
      "text/plain": [
       "array([[1.0547853e-07],\n",
       "       [9.9987310e-01],\n",
       "       [1.1535529e-06],\n",
       "       [9.9990612e-01],\n",
       "       [9.9999750e-01],\n",
       "       [1.6761999e-07],\n",
       "       [9.9999827e-01],\n",
       "       [9.6628100e-06],\n",
       "       [9.9999708e-01],\n",
       "       [3.3601779e-08],\n",
       "       [1.3317203e-09],\n",
       "       [3.0565770e-05],\n",
       "       [9.9954271e-01],\n",
       "       [1.3923559e-08],\n",
       "       [1.2968753e-06],\n",
       "       [2.9953071e-07]], dtype=float32)"
      ]
     },
     "execution_count": 147,
     "metadata": {},
     "output_type": "execute_result"
    }
   ],
   "source": [
    "#make predicitons;\n",
    "yhat=siamese_model.predict([test_input,test_val]);\n",
    "yhat"
   ]
  },
  {
   "cell_type": "code",
   "execution_count": 148,
   "id": "2fac5d65",
   "metadata": {},
   "outputs": [
    {
     "name": "stdout",
     "output_type": "stream",
     "text": [
      "[[1.0547853e-07]\n",
      " [9.9987310e-01]\n",
      " [1.1535529e-06]\n",
      " [9.9990612e-01]\n",
      " [9.9999750e-01]\n",
      " [1.6761999e-07]\n",
      " [9.9999827e-01]\n",
      " [9.6628100e-06]\n",
      " [9.9999708e-01]\n",
      " [3.3601779e-08]\n",
      " [1.3317203e-09]\n",
      " [3.0565770e-05]\n",
      " [9.9954271e-01]\n",
      " [1.3923559e-08]\n",
      " [1.2968753e-06]\n",
      " [2.9953071e-07]]\n"
     ]
    }
   ],
   "source": [
    "print(yhat);"
   ]
  },
  {
   "cell_type": "code",
   "execution_count": 149,
   "id": "b7ed85d8",
   "metadata": {},
   "outputs": [],
   "source": [
    "# post processing the results;\n",
    "yhat=[1 if prediction>0.5 else 0 for prediction in yhat];"
   ]
  },
  {
   "cell_type": "code",
   "execution_count": 150,
   "id": "2b79ab90",
   "metadata": {},
   "outputs": [
    {
     "name": "stdout",
     "output_type": "stream",
     "text": [
      "[0, 1, 0, 1, 1, 0, 1, 0, 1, 0, 0, 0, 1, 0, 0, 0]\n"
     ]
    }
   ],
   "source": [
    "print(yhat);"
   ]
  },
  {
   "cell_type": "code",
   "execution_count": 151,
   "id": "f8d6885b",
   "metadata": {},
   "outputs": [
    {
     "name": "stdout",
     "output_type": "stream",
     "text": [
      "[0. 1. 0. 1. 1. 0. 1. 0. 1. 0. 0. 0. 1. 0. 0. 0.]\n"
     ]
    }
   ],
   "source": [
    "print(y_true)"
   ]
  },
  {
   "cell_type": "markdown",
   "id": "053fbe03",
   "metadata": {},
   "source": [
    "# checking evaluation metrics"
   ]
  },
  {
   "cell_type": "code",
   "execution_count": 154,
   "id": "173bdfe4",
   "metadata": {},
   "outputs": [
    {
     "name": "stdout",
     "output_type": "stream",
     "text": [
      "1.0\n"
     ]
    }
   ],
   "source": [
    "#Recall metrics how well we are identifying ourself from others;\n",
    "m=Recall();\n",
    "m.update_state(y_true,yhat);\n",
    "print(m.result().numpy());\n",
    "#conclusion:\n",
    "#here our model is giving high recall means model is predicting me very well 100 very well from others;"
   ]
  },
  {
   "cell_type": "code",
   "execution_count": 155,
   "id": "5fddb622",
   "metadata": {},
   "outputs": [
    {
     "name": "stdout",
     "output_type": "stream",
     "text": [
      "1.0\n"
     ]
    }
   ],
   "source": [
    "#Precision metrics how well we are identifying the true positives; like myself;\n",
    "m=Precision();\n",
    "m.update_state(y_true,yhat);\n",
    "print(m.result().numpy());"
   ]
  },
  {
   "cell_type": "markdown",
   "id": "18b4a390",
   "metadata": {},
   "source": [
    "# Visuslizing the results;"
   ]
  },
  {
   "cell_type": "code",
   "execution_count": 170,
   "id": "0f2e94b4",
   "metadata": {
    "scrolled": true
   },
   "outputs": [
    {
     "data": {
      "image/png": "[encoded data removed]",
      "text/plain": [
       "<Figure size 1800x800 with 2 Axes>"
      ]
     },
     "metadata": {},
     "output_type": "display_data"
    }
   ],
   "source": [
    "plt.figure(figsize=(18,8));\n",
    "plt.subplot(1,2,1);\n",
    "plt.imshow(test_input[7]);\n",
    "plt.subplot(1,2,2);\n",
    "plt.imshow(test_val[7]);\n",
    "plt.suptitle(f\"**Output_label:{yhat[7]}**\", fontsize=16, fontweight=\"bold\");\n",
    "plt.savefig(\"output4.png\");\n",
    "plt.show();"
   ]
  },
  {
   "cell_type": "code",
   "execution_count": 171,
   "id": "96ca0d30",
   "metadata": {},
   "outputs": [
    {
     "name": "stdout",
     "output_type": "stream",
     "text": [
      "WARNING:tensorflow:Compiled the loaded model, but the compiled metrics have yet to be built. `model.compile_metrics` will be empty until you train or evaluate the model.\n"
     ]
    }
   ],
   "source": [
    "siamese_model.save('siamese_model.h5');"
   ]
  },
  {
   "cell_type": "code",
   "execution_count": 173,
   "id": "dd9ce74f",
   "metadata": {},
   "outputs": [
    {
     "name": "stdout",
     "output_type": "stream",
     "text": [
      "WARNING:tensorflow:No training configuration found in the save file, so the model was *not* compiled. Compile it manually.\n"
     ]
    }
   ],
   "source": [
    "#how to access  pretrained_model again we also need to load sepearte distance layer\n",
    "model=tf.keras.models.load_model('siamese_model.h5',custom_objects={'L1Dist':L1Dist,'BinaryCrossentropy':tf.losses.BinaryCrossentropy})"
   ]
  },
  {
   "cell_type": "code",
   "execution_count": 174,
   "id": "5ac28a22",
   "metadata": {},
   "outputs": [],
   "source": [
    "#model.save() save the weights of model as well it also saves the optimizers state as well;\n",
    "#save_weights() methods saves only the weights of the pretrianed model;"
   ]
  },
  {
   "cell_type": "code",
   "execution_count": 178,
   "id": "3eeccdba",
   "metadata": {},
   "outputs": [
    {
     "name": "stdout",
     "output_type": "stream",
     "text": [
      "1/1 [==============================] - 14s 14s/step\n"
     ]
    }
   ],
   "source": [
    "#make prediction with loaded model;\n",
    "yhat=model.predict([test_input,test_val]);"
   ]
  },
  {
   "cell_type": "code",
   "execution_count": 179,
   "id": "6c6d4067",
   "metadata": {},
   "outputs": [
    {
     "name": "stdout",
     "output_type": "stream",
     "text": [
      "[[1.0547853e-07]\n",
      " [9.9987310e-01]\n",
      " [1.1535529e-06]\n",
      " [9.9990612e-01]\n",
      " [9.9999750e-01]\n",
      " [1.6761999e-07]\n",
      " [9.9999827e-01]\n",
      " [9.6628100e-06]\n",
      " [9.9999708e-01]\n",
      " [3.3601779e-08]\n",
      " [1.3317203e-09]\n",
      " [3.0565770e-05]\n",
      " [9.9954271e-01]\n",
      " [1.3923559e-08]\n",
      " [1.2968753e-06]\n",
      " [2.9953071e-07]]\n"
     ]
    }
   ],
   "source": [
    "print(yhat);"
   ]
  },
  {
   "cell_type": "code",
   "execution_count": 180,
   "id": "c0f553c6",
   "metadata": {},
   "outputs": [],
   "source": [
    "yhat=[1 if prediction>0.5 else 0 for prediction in yhat];"
   ]
  },
  {
   "cell_type": "code",
   "execution_count": 181,
   "id": "b69b9e72",
   "metadata": {},
   "outputs": [
    {
     "name": "stdout",
     "output_type": "stream",
     "text": [
      "[0, 1, 0, 1, 1, 0, 1, 0, 1, 0, 0, 0, 1, 0, 0, 0]\n"
     ]
    }
   ],
   "source": [
    "print(yhat)"
   ]
  },
  {
   "cell_type": "code",
   "execution_count": 182,
   "id": "f3ee4b3b",
   "metadata": {},
   "outputs": [
    {
     "name": "stdout",
     "output_type": "stream",
     "text": [
      "Model: \"SiameseNetwork\"\n",
      "__________________________________________________________________________________________________\n",
      " Layer (type)                   Output Shape         Param #     Connected to                     \n",
      "==================================================================================================\n",
      " input_img (InputLayer)         [(None, 100, 100, 3  0           []                               \n",
      "                                )]                                                                \n",
      "                                                                                                  \n",
      " validation_img (InputLayer)    [(None, 100, 100, 3  0           []                               \n",
      "                                )]                                                                \n",
      "                                                                                                  \n",
      " embedding (Functional)         (None, 4096)         38960448    ['input_img[0][0]',              \n",
      "                                                                  'validation_img[0][0]']         \n",
      "                                                                                                  \n",
      " l1_dist_3 (L1Dist)             (None, 4096)         0           ['embedding[0][0]',              \n",
      "                                                                  'embedding[1][0]']              \n",
      "                                                                                                  \n",
      " dense_2 (Dense)                (None, 1)            4097        ['l1_dist_3[0][0]']              \n",
      "                                                                                                  \n",
      "==================================================================================================\n",
      "Total params: 38,964,545\n",
      "Trainable params: 38,964,545\n",
      "Non-trainable params: 0\n",
      "__________________________________________________________________________________________________\n"
     ]
    }
   ],
   "source": [
    "model.summary();"
   ]
  },
  {
   "cell_type": "code",
   "execution_count": null,
   "id": "0abcccba",
   "metadata": {},
   "outputs": [],
   "source": []
  }
 ],
 "metadata": {
  "kernelspec": {
   "display_name": "Python 3 (ipykernel)",
   "language": "python",
   "name": "python3"
  },
  "language_info": {
   "codemirror_mode": {
    "name": "ipython",
    "version": 3
   },
   "file_extension": ".py",
   "mimetype": "text/x-python",
   "name": "python",
   "nbconvert_exporter": "python",
   "pygments_lexer": "ipython3",
   "version": "3.11.1"
  }
 },
 "nbformat": 4,
 "nbformat_minor": 5
}
